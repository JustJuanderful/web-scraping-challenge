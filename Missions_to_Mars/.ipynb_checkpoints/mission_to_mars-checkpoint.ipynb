{
 "cells": [
  {
   "cell_type": "code",
   "execution_count": 2,
   "metadata": {},
   "outputs": [],
   "source": [
    "# Dependencies\n",
    "from bs4 import BeautifulSoup as bs\n",
    "from splinter import Browser\n",
    "import pandas as pd\n",
    "import requests\n",
    "import os\n",
    "import pymongo"
   ]
  },
  {
   "cell_type": "code",
   "execution_count": 3,
   "metadata": {},
   "outputs": [],
   "source": [
    "# Nasa site \n",
    "news_url = 'https://mars.nasa.gov/news/'\n",
    "\n",
    "# Retrieve page\n",
    "response = requests.get(news_url)\n",
    "\n",
    "# Parse bs object\n",
    "soup = bs(response.text, 'html.parser')"
   ]
  },
  {
   "cell_type": "code",
   "execution_count": 4,
   "metadata": {},
   "outputs": [
    {
     "data": {
      "text/plain": [
       "'NASA to Broadcast Mars 2020 Perseverance Launch, Prelaunch Activities'"
      ]
     },
     "execution_count": 4,
     "metadata": {},
     "output_type": "execute_result"
    }
   ],
   "source": [
    "# Get News Article title\n",
    "title = soup.find('div', class_=\"content_title\").text.strip()\n",
    "title"
   ]
  },
  {
   "cell_type": "code",
   "execution_count": 5,
   "metadata": {},
   "outputs": [
    {
     "data": {
      "text/plain": [
       "'Starting July 27, news activities will cover everything from mission engineering and science to returning samples from Mars to, of course, the launch itself.'"
      ]
     },
     "execution_count": 5,
     "metadata": {},
     "output_type": "execute_result"
    }
   ],
   "source": [
    "# Get News Article Paragraph\n",
    "paragraph = soup.find('div', class_=\"image_and_description_container\").text.strip()\n",
    "paragraph"
   ]
  },
  {
   "cell_type": "code",
   "execution_count": 6,
   "metadata": {},
   "outputs": [
    {
     "data": {
      "text/plain": [
       "'https://www.jpl.nasa.gov/spaceimages/images/mediumsize/PIA14627_ip.jpg'"
      ]
     },
     "execution_count": 6,
     "metadata": {},
     "output_type": "execute_result"
    }
   ],
   "source": [
    "# Nasa Images site\n",
    "executable_path = {'executable_path':'C:\\\\Users\\salic\\data_2020\\web-scraping-challenge\\chromedriver.exe'}\n",
    "browser = Browser('chrome', **executable_path, headless = False)\n",
    "nasa_images_url = 'https://www.jpl.nasa.gov/spaceimages/?search=&category=Mars'\n",
    "browser.visit(nasa_images_url)\n",
    "\n",
    "# Get Featured Image URL\n",
    "image_html = browser.html\n",
    "\n",
    "# Parse bs object\n",
    "image_soup = bs(image_html, 'html.parser')\n",
    "\n",
    "article = image_soup.find('a', class_='button fancybox')\n",
    "href = article['data-fancybox-href']\n",
    "featured_image_url = 'https://www.jpl.nasa.gov' + href\n",
    "featured_image_url"
   ]
  },
  {
   "cell_type": "code",
   "execution_count": 7,
   "metadata": {
    "scrolled": true
   },
   "outputs": [
    {
     "data": {
      "text/plain": [
       "'InSight sol 589 (2020-07-23) low -90.1ºC (-130.2ºF) high -13.1ºC (8.4ºF)\\nwinds from the W at 5.7 m/s (12.8 mph) gusting to 16.1 m/s (35.9 mph)\\npressure at 7.90 hPa'"
      ]
     },
     "execution_count": 7,
     "metadata": {},
     "output_type": "execute_result"
    }
   ],
   "source": [
    "# Mars Weather Twitter site\n",
    "executable_path = {'executable_path':'C:\\\\Users\\salic\\data_2020\\web-scraping-challenge\\chromedriver.exe'}\n",
    "browser = Browser('chrome', **executable_path, headless = False)\n",
    "weather_url = 'https://twitter.com/marswxreport?lang=en'\n",
    "browser.visit(weather_url)\n",
    "\n",
    "weather_html = browser.html\n",
    "\n",
    "# Parse bs object\n",
    "weather_soup = bs(weather_html, 'html.parser')\n",
    "mars_weather = weather_soup.find('div', class_='css-901oao r-jwli3a r-1qd0xha r-a023e6 r-16dba41 r-ad9z0x r-bcqeeo r-bnwqim r-qvutc0').text\n",
    "mars_weather"
   ]
  },
  {
   "cell_type": "code",
   "execution_count": 8,
   "metadata": {},
   "outputs": [
    {
     "data": {
      "text/plain": [
       "'<table border=\"1\" class=\"dataframe\">\\n  <thead>\\n    <tr style=\"text-align: right;\">\\n      <th></th>\\n      <th>Value</th>\\n    </tr>\\n    <tr>\\n      <th>Description</th>\\n      <th></th>\\n    </tr>\\n  </thead>\\n  <tbody>\\n    <tr>\\n      <th>Equatorial Diameter:</th>\\n      <td>6,792 km</td>\\n    </tr>\\n    <tr>\\n      <th>Polar Diameter:</th>\\n      <td>6,752 km</td>\\n    </tr>\\n    <tr>\\n      <th>Mass:</th>\\n      <td>6.39 × 10^23 kg (0.11 Earths)</td>\\n    </tr>\\n    <tr>\\n      <th>Moons:</th>\\n      <td>2 (Phobos &amp; Deimos)</td>\\n    </tr>\\n    <tr>\\n      <th>Orbit Distance:</th>\\n      <td>227,943,824 km (1.38 AU)</td>\\n    </tr>\\n    <tr>\\n      <th>Orbit Period:</th>\\n      <td>687 days (1.9 years)</td>\\n    </tr>\\n    <tr>\\n      <th>Surface Temperature:</th>\\n      <td>-87 to -5 °C</td>\\n    </tr>\\n    <tr>\\n      <th>First Record:</th>\\n      <td>2nd millennium BC</td>\\n    </tr>\\n    <tr>\\n      <th>Recorded By:</th>\\n      <td>Egyptian astronomers</td>\\n    </tr>\\n  </tbody>\\n</table>'"
      ]
     },
     "execution_count": 8,
     "metadata": {},
     "output_type": "execute_result"
    }
   ],
   "source": [
    "# Mars Facts Page\n",
    "mars_facts = pd.read_html(\"https://space-facts.com/mars/\")[0]\n",
    "mars_facts.columns=[\"Description\", \"Value\"]\n",
    "mars_facts.set_index(\"Description\", inplace=True)\n",
    "mars_facts.to_html()"
   ]
  },
  {
   "cell_type": "code",
   "execution_count": 9,
   "metadata": {},
   "outputs": [
    {
     "name": "stdout",
     "output_type": "stream",
     "text": [
      "Cerberus Hemisphere \n",
      "https://astropedia.astrogeology.usgs.gov/download/Mars/Viking/cerberus_enhanced.tif/full.jpg\n",
      "Schiaparelli Hemisphere \n",
      "https://astropedia.astrogeology.usgs.gov/download/Mars/Viking/schiaparelli_enhanced.tif/full.jpg\n",
      "Syrtis Major Hemisphere \n",
      "https://astropedia.astrogeology.usgs.gov/download/Mars/Viking/syrtis_major_enhanced.tif/full.jpg\n",
      "Valles Marineris Hemisphere \n",
      "https://astropedia.astrogeology.usgs.gov/download/Mars/Viking/valles_marineris_enhanced.tif/full.jpg\n"
     ]
    }
   ],
   "source": [
    "# USGS Astrogeology site\n",
    "executable_path = {'executable_path':'C:\\\\Users\\salic\\data_2020\\web-scraping-challenge\\chromedriver.exe'}\n",
    "browser = Browser('chrome', **executable_path, headless = False)\n",
    "hemisphere_url = 'https://astrogeology.usgs.gov/search/results?q=hemisphere+enhanced&k1=target&v1=Mars'\n",
    "browser.visit(hemisphere_url)\n",
    "\n",
    "hemisphere_html = browser.html\n",
    "\n",
    "# Parse bs object'\n",
    "soup = bs(hemisphere_html, 'html.parser')\n",
    "\n",
    "results = soup.find_all('div', class_=\"item\")\n",
    "\n",
    "hemisphere_image_urls = []\n",
    "\n",
    "for r in results: \n",
    "    heading = r.find('h3').text.replace('Enhanced', '')\n",
    "    link = r.find('a')['href']\n",
    "    url = \"https://astrogeology.usgs.gov\" + link\n",
    "    browser.visit(url)\n",
    "    image_html = browser.html\n",
    "    soup = bs(image_html, 'html.parser')\n",
    "    img_url = soup.find('div', class_=\"downloads\").find('a')['href']\n",
    "    print(heading)\n",
    "    print(img_url)\n",
    "    hemisphere = {\n",
    "        'title': heading,\n",
    "        'img_url': img_url\n",
    "    }\n",
    "    hemisphere_image_urls.append(hemisphere)"
   ]
  },
  {
   "cell_type": "code",
   "execution_count": 11,
   "metadata": {
    "scrolled": false
   },
   "outputs": [
    {
     "data": {
      "text/plain": [
       "{'news_title': 'NASA to Broadcast Mars 2020 Perseverance Launch, Prelaunch Activities',\n",
       " 'news_paragraph': 'Starting July 27, news activities will cover everything from mission engineering and science to returning samples from Mars to, of course, the launch itself.',\n",
       " 'featured_image': 'https://www.jpl.nasa.gov/spaceimages/images/mediumsize/PIA14627_ip.jpg',\n",
       " 'mars_weather': 'InSight sol 589 (2020-07-23) low -90.1ºC (-130.2ºF) high -13.1ºC (8.4ºF)\\nwinds from the W at 5.7 m/s (12.8 mph) gusting to 16.1 m/s (35.9 mph)\\npressure at 7.90 hPa',\n",
       " 'mars_facts':                                               Value\n",
       " Description                                        \n",
       " Equatorial Diameter:                       6,792 km\n",
       " Polar Diameter:                            6,752 km\n",
       " Mass:                 6.39 × 10^23 kg (0.11 Earths)\n",
       " Moons:                          2 (Phobos & Deimos)\n",
       " Orbit Distance:            227,943,824 km (1.38 AU)\n",
       " Orbit Period:                  687 days (1.9 years)\n",
       " Surface Temperature:                   -87 to -5 °C\n",
       " First Record:                     2nd millennium BC\n",
       " Recorded By:                   Egyptian astronomers,\n",
       " 'hemisphere_image_urls': [{'title': 'Cerberus Hemisphere ',\n",
       "   'img_url': 'https://astropedia.astrogeology.usgs.gov/download/Mars/Viking/cerberus_enhanced.tif/full.jpg'},\n",
       "  {'title': 'Schiaparelli Hemisphere ',\n",
       "   'img_url': 'https://astropedia.astrogeology.usgs.gov/download/Mars/Viking/schiaparelli_enhanced.tif/full.jpg'},\n",
       "  {'title': 'Syrtis Major Hemisphere ',\n",
       "   'img_url': 'https://astropedia.astrogeology.usgs.gov/download/Mars/Viking/syrtis_major_enhanced.tif/full.jpg'},\n",
       "  {'title': 'Valles Marineris Hemisphere ',\n",
       "   'img_url': 'https://astropedia.astrogeology.usgs.gov/download/Mars/Viking/valles_marineris_enhanced.tif/full.jpg'}]}"
      ]
     },
     "execution_count": 11,
     "metadata": {},
     "output_type": "execute_result"
    }
   ],
   "source": [
    "mars_df = {\n",
    "    \"news_title\": title,\n",
    "    \"news_paragraph\": paragraph,\n",
    "    \"featured_image\": featured_image_url,\n",
    "    \"mars_weather\": mars_weather,\n",
    "    \"mars_facts\": mars_facts,\n",
    "    \"hemisphere_image_urls\": hemisphere_image_urls\n",
    "}\n",
    "mars_df"
   ]
  },
  {
   "cell_type": "code",
   "execution_count": null,
   "metadata": {},
   "outputs": [],
   "source": []
  }
 ],
 "metadata": {
  "kernelspec": {
   "display_name": "Python 3",
   "language": "python",
   "name": "python3"
  },
  "language_info": {
   "codemirror_mode": {
    "name": "ipython",
    "version": 3
   },
   "file_extension": ".py",
   "mimetype": "text/x-python",
   "name": "python",
   "nbconvert_exporter": "python",
   "pygments_lexer": "ipython3",
   "version": "3.7.6"
  }
 },
 "nbformat": 4,
 "nbformat_minor": 4
}
